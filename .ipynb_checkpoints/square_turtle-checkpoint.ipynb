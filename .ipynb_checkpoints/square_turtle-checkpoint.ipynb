{
 "cells": [
  {
   "cell_type": "code",
   "execution_count": 32,
   "metadata": {},
   "outputs": [],
   "source": [
    "import turtle\n",
    "\n",
    "def draw_square(some_turtle):\n",
    "    for i in range(1,5):\n",
    "        some_turtle.forward(100)\n",
    "        some_turtle.right(90)\n",
    "        \n",
    "def draw_art():\n",
    "    window = turtle.Screen()\n",
    "    window.bgcolor(\"red\")\n",
    "    \n",
    "    brad = turtle.Turtle()\n",
    "    brad.shape(\"turtle\")\n",
    "    brad.color(\"yellow\")\n",
    "    brad.speed(2)\n",
    "    \n",
    "    for i in range (1, 37):\n",
    "        draw_square(brad)\n",
    "        brad.right(10)\n",
    "    \n",
    "    window.exitonclick()\n",
    "    \n",
    "draw_art()"
   ]
  },
  {
   "cell_type": "code",
   "execution_count": null,
   "metadata": {},
   "outputs": [],
   "source": []
  }
 ],
 "metadata": {
  "kernelspec": {
   "display_name": "Python 3",
   "language": "python",
   "name": "python3"
  },
  "language_info": {
   "codemirror_mode": {
    "name": "ipython",
    "version": 3
   },
   "file_extension": ".py",
   "mimetype": "text/x-python",
   "name": "python",
   "nbconvert_exporter": "python",
   "pygments_lexer": "ipython3",
   "version": "3.6.6"
  }
 },
 "nbformat": 4,
 "nbformat_minor": 2
}
