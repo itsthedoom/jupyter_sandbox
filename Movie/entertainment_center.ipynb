{
 "cells": [
  {
   "cell_type": "code",
   "execution_count": 15,
   "metadata": {},
   "outputs": [
    {
     "name": "stdout",
     "output_type": "stream",
     "text": [
      "A story of a boy and his toys\n"
     ]
    },
    {
     "ename": "AttributeError",
     "evalue": "'Movie' object has no attribute 'show_trailer'",
     "output_type": "error",
     "traceback": [
      "\u001b[1;31m---------------------------------------------------------------------------\u001b[0m",
      "\u001b[1;31mAttributeError\u001b[0m                            Traceback (most recent call last)",
      "\u001b[1;32m<ipython-input-15-3abfc3925001>\u001b[0m in \u001b[0;36m<module>\u001b[1;34m\u001b[0m\n\u001b[0;32m      3\u001b[0m \u001b[0mtoy_story\u001b[0m \u001b[1;33m=\u001b[0m \u001b[0mmedia\u001b[0m\u001b[1;33m.\u001b[0m\u001b[0mMovie\u001b[0m\u001b[1;33m(\u001b[0m\u001b[1;34m\"Toy Story\"\u001b[0m\u001b[1;33m,\u001b[0m \u001b[1;34m\"A story of a boy and his toys\"\u001b[0m\u001b[1;33m,\u001b[0m\u001b[1;34m\"https://images-na.ssl-images-amazon.com/images/I/61euyU4feZL._SY445_.jpg\"\u001b[0m\u001b[1;33m,\u001b[0m\u001b[1;34m\"https://youtu.be/tN1A2mVnrOM\"\u001b[0m\u001b[1;33m)\u001b[0m\u001b[1;33m\u001b[0m\u001b[0m\n\u001b[0;32m      4\u001b[0m \u001b[0mprint\u001b[0m\u001b[1;33m(\u001b[0m\u001b[0mtoy_story\u001b[0m\u001b[1;33m.\u001b[0m\u001b[0mstoryline\u001b[0m\u001b[1;33m)\u001b[0m\u001b[1;33m\u001b[0m\u001b[0m\n\u001b[1;32m----> 5\u001b[1;33m \u001b[0mtoy_story\u001b[0m\u001b[1;33m.\u001b[0m\u001b[0mshow_trailer\u001b[0m\u001b[1;33m(\u001b[0m\u001b[1;33m)\u001b[0m\u001b[1;33m\u001b[0m\u001b[0m\n\u001b[0m\u001b[0;32m      6\u001b[0m \u001b[1;33m\u001b[0m\u001b[0m\n",
      "\u001b[1;31mAttributeError\u001b[0m: 'Movie' object has no attribute 'show_trailer'"
     ]
    }
   ],
   "source": [
    "import media\n",
    "\n",
    "toy_story = media.Movie(\"Toy Story\", \"A story of a boy and his toys\",\"https://images-na.ssl-images-amazon.com/images/I/61euyU4feZL._SY445_.jpg\",\"https://youtu.be/tN1A2mVnrOM\")\n",
    "print(toy_story.storyline)\n",
    "toy_story.show_trailer()\n",
    "\n"
   ]
  },
  {
   "cell_type": "code",
   "execution_count": null,
   "metadata": {},
   "outputs": [],
   "source": []
  },
  {
   "cell_type": "code",
   "execution_count": null,
   "metadata": {},
   "outputs": [],
   "source": []
  }
 ],
 "metadata": {
  "kernelspec": {
   "display_name": "Python 3",
   "language": "python",
   "name": "python3"
  },
  "language_info": {
   "codemirror_mode": {
    "name": "ipython",
    "version": 3
   },
   "file_extension": ".py",
   "mimetype": "text/x-python",
   "name": "python",
   "nbconvert_exporter": "python",
   "pygments_lexer": "ipython3",
   "version": "3.6.6"
  }
 },
 "nbformat": 4,
 "nbformat_minor": 2
}
