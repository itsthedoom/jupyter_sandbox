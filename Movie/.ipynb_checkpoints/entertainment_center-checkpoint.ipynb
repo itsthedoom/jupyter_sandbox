{
 "cells": [
  {
   "cell_type": "code",
   "execution_count": 2,
   "metadata": {},
   "outputs": [
    {
     "name": "stdout",
     "output_type": "stream",
     "text": [
      "A story of a boy and his toys\n"
     ]
    }
   ],
   "source": [
    "import media\n",
    "\n",
    "toy_story = media.Movie(\"Toy Story\", \"A story of a boy and his toys\",\"https://images-na.ssl-images-amazon.com/images/I/61euyU4feZL._SY445_.jpg\",\n",
    "                       \"https://youtu.be/tN1A2mVnrOM\")\n",
    "#print(toy_story.storyline)\n",
    "\n"
   ]
  },
  {
   "cell_type": "code",
   "execution_count": 3,
   "metadata": {},
   "outputs": [
    {
     "name": "stdout",
     "output_type": "stream",
     "text": [
      "https://youtu.be/tN1A2mVnrOM\n"
     ]
    }
   ],
   "source": [
    "toy_story.show_trailer"
   ]
  },
  {
   "cell_type": "code",
   "execution_count": null,
   "metadata": {},
   "outputs": [],
   "source": []
  }
 ],
 "metadata": {
  "kernelspec": {
   "display_name": "Python 3",
   "language": "python",
   "name": "python3"
  },
  "language_info": {
   "codemirror_mode": {
    "name": "ipython",
    "version": 3
   },
   "file_extension": ".py",
   "mimetype": "text/x-python",
   "name": "python",
   "nbconvert_exporter": "python",
   "pygments_lexer": "ipython3",
   "version": "3.6.6"
  }
 },
 "nbformat": 4,
 "nbformat_minor": 2
}
